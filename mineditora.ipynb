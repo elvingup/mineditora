{
  "nbformat": 4,
  "nbformat_minor": 0,
  "metadata": {
    "colab": {
      "provenance": [],
      "authorship_tag": "ABX9TyOHBHW/zjPTL90LrfkXJQNG",
      "include_colab_link": true
    },
    "kernelspec": {
      "name": "python3",
      "display_name": "Python 3"
    },
    "language_info": {
      "name": "python"
    }
  },
  "cells": [
    {
      "cell_type": "markdown",
      "metadata": {
        "id": "view-in-github",
        "colab_type": "text"
      },
      "source": [
        "<a href=\"https://colab.research.google.com/github/elvingup/mineditora/blob/main/mineditora.ipynb\" target=\"_parent\"><img src=\"https://colab.research.google.com/assets/colab-badge.svg\" alt=\"Open In Colab\"/></a>"
      ]
    },
    {
      "cell_type": "markdown",
      "source": [
        "# Mini-editora de minicontas\n",
        "\n",
        "### O objetivo é escrever minicontos de forma aleatória.\n",
        "### O programa fornece uma lista de opções que a IA precisa selecionar de modo a combiná-los para gerar um texto."
      ],
      "metadata": {
        "id": "W9m7bu-PUO9-"
      }
    },
    {
      "cell_type": "code",
      "source": [
        "# Install the Python SDK for the Gemini API\n",
        "!pip install google-generativeai\n",
        "\n",
        "\n",
        "# Import the Python SDK\n",
        "import google.generativeai as genai\n",
        "# Used to securely store your API key\n",
        "from google.colab import userdata\n",
        "\n",
        "GOOGLE_API_KEY=userdata.get('GOOGLE_API_KEY')\n",
        "genai.configure(api_key=GOOGLE_API_KEY)\n",
        "\n",
        "# Set up the model\n",
        "generation_config = {\n",
        "  \"temperature\": 1,\n",
        "  \"top_p\": 0.95,\n",
        "  \"top_k\": 0,\n",
        "  \"max_output_tokens\": 8192,\n",
        "}\n",
        "\n",
        "safety_settings = [\n",
        "  {\n",
        "    \"category\": \"HARM_CATEGORY_HARASSMENT\",\n",
        "    \"threshold\": \"BLOCK_MEDIUM_AND_ABOVE\"\n",
        "  },\n",
        "  {\n",
        "    \"category\": \"HARM_CATEGORY_HATE_SPEECH\",\n",
        "    \"threshold\": \"BLOCK_MEDIUM_AND_ABOVE\"\n",
        "  },\n",
        "  {\n",
        "    \"category\": \"HARM_CATEGORY_SEXUALLY_EXPLICIT\",\n",
        "    \"threshold\": \"BLOCK_MEDIUM_AND_ABOVE\"\n",
        "  },\n",
        "  {\n",
        "    \"category\": \"HARM_CATEGORY_DANGEROUS_CONTENT\",\n",
        "    \"threshold\": \"BLOCK_MEDIUM_AND_ABOVE\"\n",
        "  },\n",
        "]\n",
        "\n",
        "model = genai.GenerativeModel(model_name=\"gemini-1.5-pro-latest\",\n",
        "                              generation_config=generation_config,\n",
        "                              safety_settings=safety_settings)\n"
      ],
      "metadata": {
        "colab": {
          "base_uri": "https://localhost:8080/"
        },
        "id": "pFj3PLWLTd-c",
        "outputId": "f1c67859-6319-4527-b722-f0532e6539e4"
      },
      "execution_count": 7,
      "outputs": [
        {
          "output_type": "stream",
          "name": "stdout",
          "text": [
            "Requirement already satisfied: google-generativeai in /usr/local/lib/python3.10/dist-packages (0.5.2)\n",
            "Requirement already satisfied: google-ai-generativelanguage==0.6.2 in /usr/local/lib/python3.10/dist-packages (from google-generativeai) (0.6.2)\n",
            "Requirement already satisfied: google-api-core in /usr/local/lib/python3.10/dist-packages (from google-generativeai) (2.11.1)\n",
            "Requirement already satisfied: google-api-python-client in /usr/local/lib/python3.10/dist-packages (from google-generativeai) (2.84.0)\n",
            "Requirement already satisfied: google-auth>=2.15.0 in /usr/local/lib/python3.10/dist-packages (from google-generativeai) (2.27.0)\n",
            "Requirement already satisfied: protobuf in /usr/local/lib/python3.10/dist-packages (from google-generativeai) (3.20.3)\n",
            "Requirement already satisfied: pydantic in /usr/local/lib/python3.10/dist-packages (from google-generativeai) (2.7.1)\n",
            "Requirement already satisfied: tqdm in /usr/local/lib/python3.10/dist-packages (from google-generativeai) (4.66.4)\n",
            "Requirement already satisfied: typing-extensions in /usr/local/lib/python3.10/dist-packages (from google-generativeai) (4.11.0)\n",
            "Requirement already satisfied: proto-plus<2.0.0dev,>=1.22.3 in /usr/local/lib/python3.10/dist-packages (from google-ai-generativelanguage==0.6.2->google-generativeai) (1.23.0)\n",
            "Requirement already satisfied: cachetools<6.0,>=2.0.0 in /usr/local/lib/python3.10/dist-packages (from google-auth>=2.15.0->google-generativeai) (5.3.3)\n",
            "Requirement already satisfied: pyasn1-modules>=0.2.1 in /usr/local/lib/python3.10/dist-packages (from google-auth>=2.15.0->google-generativeai) (0.4.0)\n",
            "Requirement already satisfied: rsa<5,>=3.1.4 in /usr/local/lib/python3.10/dist-packages (from google-auth>=2.15.0->google-generativeai) (4.9)\n",
            "Requirement already satisfied: googleapis-common-protos<2.0.dev0,>=1.56.2 in /usr/local/lib/python3.10/dist-packages (from google-api-core->google-generativeai) (1.63.0)\n",
            "Requirement already satisfied: requests<3.0.0.dev0,>=2.18.0 in /usr/local/lib/python3.10/dist-packages (from google-api-core->google-generativeai) (2.31.0)\n",
            "Requirement already satisfied: httplib2<1dev,>=0.15.0 in /usr/local/lib/python3.10/dist-packages (from google-api-python-client->google-generativeai) (0.22.0)\n",
            "Requirement already satisfied: google-auth-httplib2>=0.1.0 in /usr/local/lib/python3.10/dist-packages (from google-api-python-client->google-generativeai) (0.1.1)\n",
            "Requirement already satisfied: uritemplate<5,>=3.0.1 in /usr/local/lib/python3.10/dist-packages (from google-api-python-client->google-generativeai) (4.1.1)\n",
            "Requirement already satisfied: annotated-types>=0.4.0 in /usr/local/lib/python3.10/dist-packages (from pydantic->google-generativeai) (0.6.0)\n",
            "Requirement already satisfied: pydantic-core==2.18.2 in /usr/local/lib/python3.10/dist-packages (from pydantic->google-generativeai) (2.18.2)\n",
            "Requirement already satisfied: grpcio<2.0dev,>=1.33.2 in /usr/local/lib/python3.10/dist-packages (from google-api-core->google-generativeai) (1.63.0)\n",
            "Requirement already satisfied: grpcio-status<2.0.dev0,>=1.33.2 in /usr/local/lib/python3.10/dist-packages (from google-api-core->google-generativeai) (1.48.2)\n",
            "Requirement already satisfied: pyparsing!=3.0.0,!=3.0.1,!=3.0.2,!=3.0.3,<4,>=2.4.2 in /usr/local/lib/python3.10/dist-packages (from httplib2<1dev,>=0.15.0->google-api-python-client->google-generativeai) (3.1.2)\n",
            "Requirement already satisfied: pyasn1<0.7.0,>=0.4.6 in /usr/local/lib/python3.10/dist-packages (from pyasn1-modules>=0.2.1->google-auth>=2.15.0->google-generativeai) (0.6.0)\n",
            "Requirement already satisfied: charset-normalizer<4,>=2 in /usr/local/lib/python3.10/dist-packages (from requests<3.0.0.dev0,>=2.18.0->google-api-core->google-generativeai) (3.3.2)\n",
            "Requirement already satisfied: idna<4,>=2.5 in /usr/local/lib/python3.10/dist-packages (from requests<3.0.0.dev0,>=2.18.0->google-api-core->google-generativeai) (3.7)\n",
            "Requirement already satisfied: urllib3<3,>=1.21.1 in /usr/local/lib/python3.10/dist-packages (from requests<3.0.0.dev0,>=2.18.0->google-api-core->google-generativeai) (2.0.7)\n",
            "Requirement already satisfied: certifi>=2017.4.17 in /usr/local/lib/python3.10/dist-packages (from requests<3.0.0.dev0,>=2.18.0->google-api-core->google-generativeai) (2024.2.2)\n"
          ]
        }
      ]
    },
    {
      "cell_type": "code",
      "source": [
        "prompt_parts = [\n",
        "  \"{REGRAS [OBJETIVO = [comportar-se como um escritor para gerar minicontos(narrativas extremamente curtas que condensam uma história completa em poucas linhas ou palavras).]] [ESTILO = [o estilo do texto precisa referenciar-se do seguinte modo: [selecione um escritor literário da lista {OPÇÕES[ESCRITORES]}; também, conforme-se ao estilo respectivo] [selecione um gênero literário da lista {OPÇÕES[GENEROS_LITERARIOS]}] [selecione um tema literário da lista {OPÇÕES[TEMAS_LITERARIOS]}] [selecione um argumento literário da lista {OPÇÕES[ARGUMENTOS_LITERARIOS]}]]] [SIGNIFICADO = [o significado é feito pela combinação de escritor, gênero, tema e argumento dentre os listados em {OPÇÕES}, conforme determinado por {REGRAS[ESTILO]} ]] [REFERENCIA = [crie uma referência]] [SENTIDO = [o sentido do miniconto é a combinação de {REGRAS[SIGNIFICADO]} e {REGRAS[REFERENCIA]}]]}\",\n",
        "  \"]}\\n\\n{OPÇÕES\\n[ESCRITORES = [\\n    escritores_literarios = [\\n    {\\\"nome\\\": \\\"Jane Austen\\\", \\\"estilo\\\": \\\"Romantismo, ironia social, foco em personagens femininas\\\"},\\n    {\\\"nome\\\": \\\"William Shakespeare\\\", \\\"estilo\\\": \\\"Drama, poesia, linguagem rica e complexa\\\"},\\n    {\\\"nome\\\": \\\"Ernest Hemingway\\\", \\\"estilo\\\": \\\"Minimalismo, frases curtas e diretas, temas de guerra e masculinidade\\\"},\\n    {\\\"nome\\\": \\\"Virginia Woolf\\\", \\\"estilo\\\": \\\"Modernismo, fluxo de consciência, exploração da psique humana\\\"},\\n    {\\\"nome\\\": \\\"Gabriel García Márquez\\\", \\\"estilo\\\": \\\"Realismo mágico, narrativas complexas, temas de amor e solidão\\\"},\\n    {\\\"nome\\\": \\\"Franz Kafka\\\", \\\"estilo\\\": \\\"Surrealismo, temas de alienação e burocracia, atmosferas oníricas\\\"},\\n    {\\\"nome\\\": \\\"Jorge Luis Borges\\\", \\\"estilo\\\": \\\"Ficção especulativa, labirintos, metalinguagem, realidades alternativas\\\"},\\n    {\\\"nome\\\": \\\"J.R.R. Tolkien\\\", \\\"estilo\\\": \\\"Fantasia épica, mundos complexos, mitologia, linguagem inventiva\\\"},\\n    {\\\"nome\\\": \\\"Agatha Christie\\\", \\\"estilo\\\": \\\"Mistério, suspense, tramas inteligentes, personagens memoráveis\\\"},\\n    {\\\"nome\\\": \\\"Stephen King\\\", \\\"estilo\\\": \\\"Terror, suspense psicológico, realismo com elementos sobrenaturais\\\"},\\n    {\\\"nome\\\": \\\"Charles Dickens\\\", \\\"estilo\\\": \\\"Realismo, crítica social, personagens vívidos, humor e sentimentalismo\\\"},\\n    {\\\"nome\\\": \\\"Leo Tolstoy\\\", \\\"estilo\\\": \\\"Realismo, temas de guerra e paz, análise psicológica, romances extensos\\\"},\\n    {\\\"nome\\\": \\\"Fyodor Dostoevsky\\\", \\\"estilo\\\": \\\"Existencialismo, temas de culpa e redenção, exploração da psique humana\\\"},\\n    {\\\"nome\\\": \\\"Mark Twain\\\", \\\"estilo\\\": \\\"Realismo, humor satírico, crítica social, linguagem coloquial\\\"},\\n    {\\\"nome\\\": \\\"Emily Brontë\\\", \\\"estilo\\\": \\\"Romantismo, paixão, temas de amor e morte, atmosfera gótica\\\"},\\n    {\\\"nome\\\": \\\"Charlotte Brontë\\\", \\\"estilo\\\": \\\"Romantismo, crítica social, personagens femininas fortes, realismo psicológico\\\"},\\n    {\\\"nome\\\": \\\"James Joyce\\\", \\\"estilo\\\": \\\"Modernismo, fluxo de consciência, experimentação linguística, temas de identidade\\\"},\\n    {\\\"nome\\\": \\\"William Faulkner\\\", \\\"estilo\\\": \\\"Modernismo, narrativas complexas, temas de história e memória, estilo sulista\\\"},\\n    {\\\"nome\\\": \\\"Jane Eyre\\\", \\\"estilo\\\": \\\"Romantismo, crítica social, personagens femininas fortes, realismo psicológico\\\"},\\n    {\\\"nome\\\": \\\"T.S. Eliot\\\", \\\"estilo\\\": \\\"Modernismo, poesia fragmentada, temas de alienação e desilusão\\\"},\\n    {\\\"nome\\\": \\\"Edgar Allan Poe\\\", \\\"estilo\\\": \\\"Romantismo sombrio, terror, mistério, poemas e contos macabros\\\"},\\n    {\\\"nome\\\": \\\"Walt Whitman\\\", \\\"estilo\\\": \\\"Romantismo, poemas épicos, celebração da natureza e da democracia\\\"},\\n    {\\\"nome\\\": \\\"Emily Dickinson\\\", \\\"estilo\\\": \\\"Poesia concisa e enigmática, temas de morte, amor e natureza\\\"},\\n    {\\\"nome\\\": \\\"Robert Frost\\\", \\\"estilo\\\": \\\"Poesia tradicional, temas da natureza e da vida rural, linguagem simples e evocativa\\\"},\\n    {\\\"nome\\\": \\\"Sylvia Plath\\\", \\\"estilo\\\": \\\"Poesia confessional, temas de morte, feminilidade e sofrimento\\\"},\\n    {\\\"nome\\\": \\\"Maya Angelou\\\", \\\"estilo\\\": \\\"Poesia e autobiografia, temas de racismo, identidade e superação\\\"},\\n    {\\\"nome\\\": \\\"Toni Morrison\\\", \\\"estilo\\\": \\\"Realismo mágico, temas de racismo e história, personagens femininas complexas\\\"},\\n    {\\\"nome\\\": \\\"Margaret Atwood\\\", \\\"estilo\\\": \\\"Ficção especulativa, temas feministas, distopias, crítica social\\\"},\\n    {\\\"nome\\\": \\\"Haruki Murakami\\\", \\\"estilo\\\": \\\"Realismo mágico, surrealismo, temas de solidão e alienação, personagens excêntricos\\\"},\\n    {\\\"nome\\\": \\\"Kazuo Ishiguro\\\", \\\"estilo\\\": \\\"Realismo psicológico, temas de memória e identidade, personagens introspectivos\\\"},\\n    {\\\"nome\\\": \\\"Salman Rushdie\\\", \\\"estilo\\\": \\\"Realismo mágico, sátira política, narrativas complexas, temas de identidade\\\"},\\n    {\\\"nome\\\": \\\"Zadie Smith\\\", \\\"estilo\\\": \\\"Realismo, crítica social, temas de multiculturalismo, personagens diversos\\\"},\\n    {\\\"nome\\\": \\\"Chimamanda Ngozi Adichie\\\", \\\"estilo\\\": \\\"Realismo, temas de feminismo, racismo e identidade, personagens femininas fortes\\\"},\\n    {\\\"nome\\\": \\\"George Orwell\\\", \\\"estilo\\\": \\\"Distopia, sátira política, crítica social, linguagem clara e concisa\\\"},\\n    {\\\"nome\\\": \\\"Aldous Huxley\\\", \\\"estilo\\\": \\\"Distopia, sátira social, temas de tecnologia e controle, linguagem elegante\\\"},\\n    {\\\"nome\\\": \\\"Ray Bradbury\\\", \\\"estilo\\\": \\\"Ficção científica, fantasia, temas de tecnologia e humanidade, estilo poético\\\"},\\n    {\\\"nome\\\": \\\"Philip K. Dick\\\", \\\"estilo\\\": \\\"Ficção científica, temas de realidade e percepção, paranoia, realidades alternativas\\\"},\\n    {\\\"nome\\\": \\\"Ursula K. Le Guin\\\", \\\"estilo\\\": \\\"Ficção científica, fantasia, temas feministas, mundos complexos, linguagem poética\\\"},\\n    {\\\"nome\\\": \\\"Neil Gaiman\\\", \\\"estilo\\\": \\\"Fantasia urbana, terror, realismo mágico, temas de mitologia e folclore\\\"},\\n    {\\\"nome\\\": \\\"Terry Pratchett\\\", \\\"estilo\\\": \\\"Fantasia cômica, sátira social, personagens memoráveis, humor inteligente\\\"},\\n    {\\\"nome\\\": \\\"J.K. Rowling\\\", \\\"estilo\\\": \\\"Fantasia, temas de amizade e coragem, personagens cativantes, universo mágico\\\"},\\n    {\\\"nome\\\": \\\"George R.R. Martin\\\", \\\"estilo\\\": \\\"Fantasia épica, realismo, personagens complexos, universo medieval\\\"},\\n    {\\\"nome\\\": \\\"Patrick Rothfuss\\\", \\\"estilo\\\": \\\"Fantasia, linguagem rica, personagens memoráveis, narrativa envolvente\\\"},\\n    {\\\"nome\\\": \\\"Brandon Sanderson\\\", \\\"estilo\\\": \\\"Fantasia épica, sistemas mágicos complexos, personagens bem desenvolvidos, universos vastos\\\"},\\n    {\\\"nome\\\": \\\"Sir Arthur Conan Doyle\\\", \\\"estilo\\\": \\\"Mistério, suspense, personagens icônicos, método dedutivo\\\"},\\n    {\\\"nome\\\": \\\"Raymond Chandler\\\", \\\"estilo\\\": \\\"Noir, suspense, personagens cínicos, linguagem crua e realista\\\"},\\n    {\\\"nome\\\": \\\"Dashiell Hammett\\\", \\\"estilo\\\": \\\"Noir, suspense, personagens durões, tramas complexas, linguagem concisa\\\"},\\n    {\\\"nome\\\": \\\"James Ellroy\\\", \\\"estilo\\\": \\\"Noir, suspense, temas de corrupção e violência, linguagem estilizada\\\"},\\n    {\\\"nome\\\": \\\"Gillian Flynn\\\", \\\"estilo\\\": \\\"Suspense psicológico, personagens complexos, reviravoltas, temas de manipulação\\\"},\\n    {\\\"nome\\\": \\\"Paula Hawkins\\\", \\\"estilo\\\": \\\"Suspense psicológico, personagens não confiáveis, temas de trauma e memória\\\"},\\n    {\\\"nome\\\": \\\"Stephenie Meyer\\\", \\\"estilo\\\": \\\"Fantasia romântica, personagens adolescentes, temas de amor e sobrenatural\\\"},\\n    {\\\"nome\\\": \\\"John Green\\\", \\\"estilo\\\": \\\"Realismo, temas de adolescência, amor e perda, personagens cativantes\\\"},\\n    {\\\"nome\\\": \\\"Suzanne Collins\\\", \\\"estilo\\\": \\\"Distopia, aventura, temas de guerra e sobrevivência, personagens fortes\\\"},\\n    {\\\"nome\\\": \\\"Veronica Roth\\\", \\\"estilo\\\": \\\"Distopia, aventura, temas de identidade e escolha, personagens corajosos\\\"},\\n    {\\\"nome\\\": \\\"Rick Riordan\\\", \\\"estilo\\\": \\\"Fantasia, mitologia, aventura, personagens adolescentes, humor\\\"},\\n    {\\\"nome\\\": \\\"Cassandra Clare\\\", \\\"estilo\\\": \\\"Fantasia urbana, romance, temas de anjos e demônios, personagens memoráveis\\\"},\\n    {\\\"nome\\\": \\\"Sarah J. Maas\\\", \\\"estilo\\\": \\\"Fantasia romântica, aventura, personagens femininas fortes, temas de amor e destino\\\"},\\n    {\\\"nome\\\": \\\"Leigh Bardugo\\\", \\\"estilo\\\": \\\"Fantasia, aventura, temas de amizade e poder, personagens complexos\\\"},\\n    {\\\"nome\\\": \\\"Victoria Aveyard\\\", \\\"estilo\\\": \\\"Fantasia, distopia, temas de poder e rebelião, personagens cativantes\\\"},\\n    {\\\"nome\\\": \\\"Holly Black\\\", \\\"estilo\\\": \\\"Fantasia urbana, romance, temas de fadas e magia, personagens complexos\\\"},\\n    {\\\"nome\\\": \\\"Sabaa Tahir\\\", \\\"estilo\\\": \\\"Fantasia, romance, temas de magia e rebelião, personagens cativantes\\\"},\\n    {\\\"nome\\\": \\\"Tomi Adeyemi\\\", \\\"estilo\\\": \\\"Fantasia, mitologia africana, temas de poder e identidade, personagens fortes\\\"},\\n    {\\\"nome\\\": \\\"Elizabeth Acevedo\\\", \\\"estilo\\\": \\\"Poesia, realismo, temas de identidade e cultura, personagens femininas fortes\\\"},\\n    {\\\"nome\\\": \\\"Angie Thomas\\\", \\\"estilo\\\": \\\"Realismo, temas de racismo e violência policial, personagens adolescentes, linguagem autêntica\\\"},\\n    {\\\"nome\\\": \\\"Nicola Yoon\\\", \\\"estilo\\\": \\\"Romance, temas de amor e imigração, personagens cativantes\\\"},\\n    {\\\"nome\\\": \\\"Adam Silvera\\\", \\\"estilo\\\": \\\"Realismo, temas de amor, perda e identidade, personagens LGBTQ+\\\"},\\n    {\\\"nome\\\": \\\"Becky Albertalli\\\", \\\"estilo\\\": \\\"Romance, temas de identidade e autoaceitação, personagens LGBTQ+\\\"},\\n    {\\\"nome\\\": \\\"Alice Oseman\\\", \\\"estilo\\\": \\\"Realismo, temas de identidade, amizade e amor, personagens LGBTQ+\\\"},\\n    {\\\"nome\\\": \\\"Rainbow Rowell\\\", \\\"estilo\\\": \\\"Romance, realismo, temas de amor e amizade, personagens cativantes\\\"},\\n    {\\\"nome\\\": \\\"Jenny Han\\\", \\\"estilo\\\": \\\"Romance, temas de amor e família, personagens cativantes\\\"},\\n    {\\\"nome\\\": \\\"Stephen Chbosky\\\", \\\"estilo\\\": \\\"Realismo, temas de adolescência, trauma e autoaceitação, personagens memoráveis\\\"},\\n    {\\\"nome\\\": \\\"Markus Zusak\\\", \\\"estilo\\\": \\\"Realismo mágico, temas de guerra e esperança, personagens cativantes\\\"},\\n    {\\\"nome\\\": \\\"Khaled Hosseini\\\", \\\"estilo\\\": \\\"Realismo, temas de guerra, família e redenção, personagens complexos\\\"},\\n    {\\\"nome\\\": \\\"Mitch Albom\\\", \\\"estilo\\\": \\\"Realismo mágico, temas de vida e morte, personagens memoráveis\\\"},\\n    {\\\"nome\\\": \\\"Paulo Coelho\\\", \\\"estilo\\\": \\\"Realismo mágico, temas de espiritualidade e autoconhecimento, personagens em busca de significado\\\"},\\n    {\\\"nome\\\": \\\"Isabel Allende\\\", \\\"estilo\\\": \\\"Realismo mágico, temas de amor, família e história, personagens femininas fortes\\\"},\\n    {\\\"nome\\\": \\\"Gabriel Tallent\\\", \\\"estilo\\\": \\\"Suspense psicológico, temas de família e trauma, personagens complexos\\\"},\\n    {\\\"nome\\\": \\\"Celeste Ng\\\", \\\"estilo\\\": \\\"Realismo, temas de família, classe social e raça, personagens complexos\\\"},\\n    {\\\"nome\\\": \\\"Brit Bennett\\\", \\\"estilo\\\": \\\"Realismo, temas de raça, classe social e identidade, personagens complexos\\\"},\\n    {\\\"nome\\\": \\\"Rupi Kaur\\\", \\\"estilo\\\": \\\"Poesia, temas de amor, perda, trauma e cura, linguagem simples e direta\\\"},\\n    {\\\"nome\\\": \\\"Lang Leav\\\", \\\"estilo\\\": \\\"Poesia, temas de amor, perda e saudade, linguagem simples e evocativa\\\"},\\n    {\\\"nome\\\": \\\"Amanda Lovelace\\\", \\\"estilo\\\": \\\"Poesia, temas de feminismo, amor próprio e superação, linguagem acessível\\\"},\\n    {\\\"nome\\\": \\\"Nayyirah Waheed\\\", \\\"estilo\\\": \\\"Poesia, temas de identidade, amor próprio e resistência, linguagem concisa e impactante\\\"},\\n    {\\\"nome\\\": \\\"Warsan Shire\\\", \\\"estilo\\\": \\\"Poesia, temas de imigração, identidade e trauma, linguagem poderosa e evocativa\\\"},\\n]\\n]]\\n[GENEROS_LITERARIOS = [\\n    generos_literarios = [\\n    \\\"Ficção\\\",\\n    \\\"  Romance\\\",\\n    \\\"    Romance histórico\\\",\\n    \\\"    Romance contemporâneo\\\",\\n    \\\"    Romance policial\\\",\\n    \\\"    Romance de aventura\\\",\\n    \\\"    Romance de fantasia\\\",\\n    \\\"    Romance de ficção científica\\\",\\n    \\\"    Romance romântico\\\",\\n    \\\"    Romance erótico\\\",\\n    \\\"    Romance psicológico\\\",\\n    \\\"    Romance gótico\\\",\\n    \\\"    Romance epistolar\\\",\\n    \\\"    Romance picaresco\\\",\\n    \\\"  Conto\\\",\\n    \\\"  Novela\\\",\\n    \\\"  Crônica\\\",\\n    \\\"  Fábula\\\",\\n    \\\"  Drama\\\",\\n    \\\"    Tragédia\\\",\\n    \\\"    Comédia\\\",\\n    \\\"    Tragicomédia\\\",\\n    \\\"    Farsa\\\",\\n    \\\"    Melodrama\\\",\\n    \\\"  Poesia\\\",\\n    \\\"    Poesia épica\\\",\\n    \\\"    Poesia lírica\\\",\\n    \\\"    Poesia dramática\\\",\\n    \\\"    Poesia satírica\\\",\\n    \\\"    Haicai\\\",\\n    \\\"    Soneto\\\",\\n    \\\"    Poema livre\\\",\\n    \\\"Não-ficção\\\",\\n    \\\"  Biografia\\\",\\n    \\\"  Autobiografia\\\",\\n    \\\"  Memórias\\\",\\n    \\\"  Ensaio\\\",\\n    \\\"  Artigo\\\",\\n    \\\"  Reportagem\\\",\\n    \\\"  História\\\",\\n    \\\"  Filosofia\\\",\\n    \\\"  Ciência\\\",\\n    \\\"  Autoajuda\\\",\\n    \\\"  Viagem\\\",\\n    \\\"  Humor\\\",\\n    \\\"  Culinária\\\",\\n    \\\"  Infantil\\\",\\n    \\\"    Literatura infantil\\\",\\n    \\\"    Literatura juvenil\\\",\\n    \\\"  Quadrinhos\\\",\\n    \\\"  Mangá\\\",\\n    \\\"  Graphic novel\\\",\\n]\\n]]\\n[TEMAS_LITERARIOS = [\\n    temas_literarios = [\\n    \\\"Amor\\\",\\n    \\\"  Amor romântico\\\",\\n    \\\"  Amor familiar\\\",\\n    \\\"  Amor próprio\\\",\\n    \\\"  Perda de amor\\\",\\n    \\\"  Amizade\\\",\\n    \\\"Morte\\\",\\n    \\\"  Luto\\\",\\n    \\\"  Mortalidade\\\",\\n    \\\"  Vida após a morte\\\",\\n    \\\"  Suicídio\\\",\\n    \\\"Guerra\\\",\\n    \\\"  Conflito\\\",\\n    \\\"  Violência\\\",\\n    \\\"  Trauma\\\",\\n    \\\"  Sobrevivência\\\",\\n    \\\"  Paz\\\",\\n    \\\"Justiça\\\",\\n    \\\"  Injustiça\\\",\\n    \\\"  Discriminação\\\",\\n    \\\"  Corrupção\\\",\\n    \\\"  Rebelião\\\",\\n    \\\"  Vingança\\\",\\n    \\\"Identidade\\\",\\n    \\\"  Autoconhecimento\\\",\\n    \\\"  Busca pela identidade\\\",\\n    \\\"  Crise existencial\\\",\\n    \\\"  Sexualidade\\\",\\n    \\\"  Gênero\\\",\\n    \\\"  Raça\\\",\\n    \\\"  Cultura\\\",\\n    \\\"Sociedade\\\",\\n    \\\"  Classe social\\\",\\n    \\\"  Política\\\",\\n    \\\"  Religião\\\",\\n    \\\"  Tecnologia\\\",\\n    \\\"  Meio ambiente\\\",\\n    \\\"  Globalização\\\",\\n    \\\"Natureza\\\",\\n    \\\"  Humanidade e natureza\\\",\\n    \\\"  Força da natureza\\\",\\n    \\\"  Beleza natural\\\",\\n    \\\"  Destruição ambiental\\\",\\n    \\\"Tempo\\\",\\n    \\\"  Passagem do tempo\\\",\\n    \\\"  Memória\\\",\\n    \\\"  Nostalgia\\\",\\n    \\\"  História\\\",\\n    \\\"  Futuro\\\",\\n    \\\"Poder\\\",\\n    \\\"  Corrupção pelo poder\\\",\\n    \\\"  Luta pelo poder\\\",\\n    \\\"  Controle\\\",\\n    \\\"  Manipulação\\\",\\n    \\\"  Resistência\\\",\\n    \\\"Conhecimento\\\",\\n    \\\"  Ignorância\\\",\\n    \\\"  Busca pelo conhecimento\\\",\\n    \\\"  Educação\\\",\\n    \\\"  Livros e leitura\\\",\\n    \\\"  Linguagem\\\",\\n    \\\"  Verdade\\\",\\n    \\\"  Mentira\\\",\\n    \\\"Família\\\",\\n    \\\"  Laços familiares\\\",\\n    \\\"  Conflitos familiares\\\",\\n    \\\"  Paternidade\\\",\\n    \\\"  Maternidade\\\",\\n    \\\"  Infância\\\",\\n    \\\"  Adolescência\\\",\\n    \\\"  Velhice\\\",\\n    \\\"Emoções\\\",\\n    \\\"  Felicidade\\\",\\n    \\\"  Tristeza\\\",\\n    \\\"  Raiva\\\",\\n    \\\"  Medo\\\",\\n    \\\"  Esperança\\\",\\n    \\\"  Desespero\\\",\\n    \\\"  Culpa\\\",\\n    \\\"  Vergonha\\\",\\n    \\\"  Amor\\\",\\n    \\\"  Ódio\\\",\\n    \\\"  Compaixão\\\",\\n    \\\"  Empatia\\\",\\n    \\\"  Solidão\\\",\\n    \\\"  Alienação\\\",\\n    \\\"  Pertencimento\\\",\\n    \\\"  Destino\\\",\\n    \\\"  Livre-arbítrio\\\",\\n    \\\"  Acaso\\\",\\n    \\\"  Sorte\\\",\\n    \\\"  Coincidência\\\",\\n    \\\"  Sonhos\\\",\\n    \\\"  Realidade\\\",\\n    \\\"  Ilusão\\\",\\n    \\\"  Imaginação\\\",\\n    \\\"  Criatividade\\\",\\n    \\\"  Arte\\\",\\n    \\\"  Música\\\",\\n    \\\"  Cinema\\\",\\n    \\\"  Teatro\\\",\\n    \\\"  Dança\\\",\\n    \\\"  Esporte\\\",\\n    \\\"  Comida\\\",\\n    \\\"  Viagem\\\",\\n    \\\"  Espiritualidade\\\",\\n    \\\"  Religião\\\",\\n    \\\"  Filosofia\\\",\\n    \\\"  Ciência\\\",\\n    \\\"  Tecnologia\\\",\\n    \\\"  Superação\\\",\\n    \\\"  Resiliência\\\",\\n    \\\"  Transformação\\\",\\n    \\\"  Mudança\\\",\\n    \\\"  Crescimento pessoal\\\",\\n]\\n]]\\n[ARGUMENTOS_LITERARIOS = [\\n    argumentos_literarios = [\\n    \\\"A busca pela identidade e o significado da vida\\\",\\n    \\\"O impacto da guerra e da violência na psique humana\\\",\\n    \\\"A complexidade das relações humanas (amor, amizade, família)\\\",\\n    \\\"A luta contra a opressão e a injustiça social\\\",\\n    \\\"A exploração da natureza humana e seus paradoxos\\\",\\n    \\\"A relação entre o homem e a natureza\\\",\\n    \\\"O poder da imaginação e da criatividade\\\",\\n    \\\"A importância da memória e do passado\\\",\\n    \\\"A busca pela felicidade e a natureza da realização pessoal\\\",\\n    \\\"O impacto da tecnologia na sociedade e no indivíduo\\\",\\n    \\\"A natureza da realidade e a busca pela verdade\\\",\\n    \\\"A crítica social e a sátira política\\\",\\n    \\\"A exploração de temas existenciais como a morte e o livre-arbítrio\\\",\\n    \\\"A jornada do herói e a superação de desafios\\\",\\n    \\\"O poder do perdão e da redenção\\\",\\n    \\\"A importância da comunicação e da linguagem\\\",\\n    \\\"A beleza e o poder da arte\\\",\\n    \\\"A diversidade cultural e a experiência humana\\\",\\n    \\\"A luta contra preconceitos e discriminações\\\",\\n    \\\"A importância da educação e do conhecimento\\\",\\n    \\\"O impacto das mudanças sociais e tecnológicas\\\",\\n    \\\"A exploração de diferentes culturas e perspectivas\\\",\\n    \\\"A crítica aos sistemas de poder e controle\\\",\\n    \\\"A denúncia da corrupção e da desigualdade social\\\",\\n    \\\"A defesa dos direitos humanos e da liberdade individual\\\",\\n    \\\"A exploração de temas LGBTQ+ e a luta por igualdade\\\",\\n    \\\"A importância da representatividade e da inclusão na literatura\\\",\\n    \\\"A crítica ao consumismo e à superficialidade da sociedade moderna\\\",\\n    \\\"A busca por um futuro mais sustentável e justo\\\",\\n    \\\"A exploração de temas espirituais e religiosos\\\",\\n    \\\"A relação entre o indivíduo e a sociedade\\\",\\n    \\\"A importância da empatia e da compaixão\\\",\\n    \\\"O poder da resiliência e da superação\\\",\\n    \\\"A busca por significado em um mundo caótico\\\",\\n    \\\"A exploração da condição humana em sua totalidade\\\",\\n]\\n]]\\n}\\n\\nComporte-se como um escritor para escrever um miniconto. Crie uma referência. \\nSelecione um escritor, um genero, um tema e um argumento dentro os listados em {OPÇÕES}.\\nEscreva um miniconto a partir desse material.\",\n",
        "]\n",
        "\n",
        "response = model.generate_content(prompt_parts)\n",
        "print(response.text)"
      ],
      "metadata": {
        "colab": {
          "base_uri": "https://localhost:8080/",
          "height": 297
        },
        "id": "1tLYQJUwTmHh",
        "outputId": "ca0610a7-31d4-4d8a-da57-3373b275d4f3"
      },
      "execution_count": 8,
      "outputs": [
        {
          "output_type": "stream",
          "name": "stdout",
          "text": [
            "## Referência: O naufrágio do navio Eldorado em 1910.\n",
            "\n",
            "## Miniconto:\n",
            "\n",
            "**Escritor:** Edgar Allan Poe\n",
            "\n",
            "**Gênero:** Terror\n",
            "\n",
            "**Tema:** Morte\n",
            "\n",
            "**Argumento:** A exploração de temas existenciais como a morte e o livre-arbítrio.\n",
            "\n",
            "\n",
            "A água gélida envolveu-me num abraço mortal. O Eldorado, outrora majestoso, agora jazia partido, engolido pelo mar revolto. Agarrei-me a um pedaço de madeira, a última réstia de esperança num mar de escuridão. A cada onda que se quebrava, a morte sussurrava meu nome, sedutora e fria. Lutei, mas a decisão não era minha, pertencia ao mar, à noite, ao destino.  O abismo me chamava, e eu, impotente, sucumbi ao seu canto fúnebre. \n",
            "\n"
          ]
        }
      ]
    }
  ]
}